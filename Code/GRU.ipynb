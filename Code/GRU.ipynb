{
 "cells": [
  {
   "cell_type": "code",
   "execution_count": 1,
   "metadata": {},
   "outputs": [
    {
     "ename": "ModuleNotFoundError",
     "evalue": "No module named 'keras'",
     "output_type": "error",
     "traceback": [
      "\u001b[1;31m---------------------------------------------------------------------------\u001b[0m",
      "\u001b[1;31mModuleNotFoundError\u001b[0m                       Traceback (most recent call last)",
      "Cell \u001b[1;32mIn[1], line 5\u001b[0m\n\u001b[0;32m      3\u001b[0m \u001b[38;5;28;01mimport\u001b[39;00m \u001b[38;5;21;01mmatplotlib\u001b[39;00m\u001b[38;5;21;01m.\u001b[39;00m\u001b[38;5;21;01mpyplot\u001b[39;00m \u001b[38;5;28;01mas\u001b[39;00m \u001b[38;5;21;01mplt\u001b[39;00m\n\u001b[0;32m      4\u001b[0m \u001b[38;5;28;01mfrom\u001b[39;00m \u001b[38;5;21;01msklearn\u001b[39;00m\u001b[38;5;21;01m.\u001b[39;00m\u001b[38;5;21;01mpreprocessing\u001b[39;00m \u001b[38;5;28;01mimport\u001b[39;00m MinMaxScaler\n\u001b[1;32m----> 5\u001b[0m \u001b[38;5;28;01mfrom\u001b[39;00m \u001b[38;5;21;01mkeras\u001b[39;00m\u001b[38;5;21;01m.\u001b[39;00m\u001b[38;5;21;01mmodels\u001b[39;00m \u001b[38;5;28;01mimport\u001b[39;00m Sequential\n\u001b[0;32m      6\u001b[0m \u001b[38;5;28;01mfrom\u001b[39;00m \u001b[38;5;21;01mkeras\u001b[39;00m\u001b[38;5;21;01m.\u001b[39;00m\u001b[38;5;21;01mlayers\u001b[39;00m \u001b[38;5;28;01mimport\u001b[39;00m Dense, GRU\n",
      "\u001b[1;31mModuleNotFoundError\u001b[0m: No module named 'keras'"
     ]
    }
   ],
   "source": [
    "import numpy as np\n",
    "import pandas as pd\n",
    "import matplotlib.pyplot as plt\n",
    "from sklearn.preprocessing import MinMaxScaler\n",
    "from keras.models import Sequential\n",
    "from keras.layers import Dense, GRU"
   ]
  },
  {
   "cell_type": "code",
   "execution_count": 7,
   "metadata": {},
   "outputs": [],
   "source": [
    "import numpy as np\n",
    "import pandas as pd\n",
    "\n",
    "# Đọc dataset vàng\n",
    "df_gold = pd.read_csv(r'D:\\3BUSINESS ANALYSIS\\ĐỒ ÁN\\dataset\\gold_price_2018_2024.csv')\n",
    "df_silver = pd.read_csv(r'D:\\3BUSINESS ANALYSIS\\ĐỒ ÁN\\dataset\\silver_price_2018_2024.csv')\n",
    "df_platinum = pd.read_csv(r'D:\\3BUSINESS ANALYSIS\\ĐỒ ÁN\\dataset\\platium_price_2018_2024.csv')\n",
    "\n",
    "# Reset index và lấy cột 'Value (USD per troy ounce)'\n",
    "# df_gold_value = df_gold.reset_index()['Value (USD per troy ounce)']\n",
    "# df_silver_value = df_silver.reset_index()['Value (USD per troy ounce)']\n",
    "# df_platinum_value = df_platinum.reset_index()['Value (USD per troy ounce)']\n"
   ]
  },
  {
   "cell_type": "code",
   "execution_count": 9,
   "metadata": {},
   "outputs": [
    {
     "name": "stdout",
     "output_type": "stream",
     "text": [
      "Date                          0\n",
      "Value (USD per troy ounce)    0\n",
      "dtype: int64\n",
      "Date                          0\n",
      "Value (USD per troy ounce)    1\n",
      "dtype: int64\n",
      "Date                          0\n",
      "Value (USD per troy ounce)    0\n",
      "dtype: int64\n",
      "Số dòng đọc được: 2252\n",
      "Số dòng đọc được: 2252\n",
      "Số dòng đọc được: 2252\n"
     ]
    }
   ],
   "source": [
    "# Kiểm tra giá trị bị thiếu\n",
    "print(df_gold.isnull().sum())\n",
    "print(df_silver.isnull().sum())\n",
    "print(df_platinum.isnull().sum())\n",
    "\n",
    "print(f\"Số dòng đọc được: {df_gold.shape[0]}\")\n",
    "print(f\"Số dòng đọc được: {df_silver.shape[0]}\")\n",
    "print(f\"Số dòng đọc được: {df_platinum.shape[0]}\")\n"
   ]
  },
  {
   "cell_type": "code",
   "execution_count": 10,
   "metadata": {},
   "outputs": [
    {
     "name": "stdout",
     "output_type": "stream",
     "text": [
      "Đã xóa các hàng có giá trị null.\n",
      "Số dòng sau khi xử lý giá trị null: 2251\n"
     ]
    }
   ],
   "source": [
    "# Xóa các hàng có giá trị null nếu có\n",
    "if df_silver.isnull().sum().sum() > 0:\n",
    "    df_silver.dropna(inplace=True)\n",
    "    print(\"Đã xóa các hàng có giá trị null.\")\n",
    "\n",
    "# In ra số dòng sau khi xử lý giá trị null\n",
    "print(f\"Số dòng sau khi xử lý giá trị null: {df_silver.shape[0]}\")"
   ]
  }
 ],
 "metadata": {
  "kernelspec": {
   "display_name": "base",
   "language": "python",
   "name": "python3"
  },
  "language_info": {
   "codemirror_mode": {
    "name": "ipython",
    "version": 3
   },
   "file_extension": ".py",
   "mimetype": "text/x-python",
   "name": "python",
   "nbconvert_exporter": "python",
   "pygments_lexer": "ipython3",
   "version": "3.11.5"
  }
 },
 "nbformat": 4,
 "nbformat_minor": 2
}
